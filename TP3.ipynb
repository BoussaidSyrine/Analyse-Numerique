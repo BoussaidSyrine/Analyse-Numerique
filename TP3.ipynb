{
 "cells": [
  {
   "cell_type": "markdown",
   "metadata": {},
   "source": [
    "<img src='Picture/cap3.PNG'/>"
   ]
  },
  {
   "cell_type": "markdown",
   "metadata": {},
   "source": [
    "# Intégration numérique  : "
   ]
  },
  {
   "cell_type": "markdown",
   "metadata": {},
   "source": [
    " L'intégration numérique est un chapitre important de l'analyse numérique et un outil indispensable en physique numérique. On intègre numériquement dans deux cas principaux :.\n",
    "\n",
    "on ne peut pas intégrer analytiquement \n",
    "\n",
    "l'intégrande est fourni non pas sous la forme d'une fonction mais de tableaux de mesures, cas d'ailleurs le plus fréquent dans la vraie vie \n",
    "\n",
    "Les méthodes numériques d'intégration d'une fonction sont nombreuses et les techniques très diverses. Des très simples, comme la méthode des rectangles aux très complexes comme certaines variétés de la méthode de Monte-Carlo. Nous n'aborderons ici que des méthodes (ou schémas) simples et courants. Mon but est de vous donner un outil pour intégrer des fonctions pas très tourmentées, celles que l'on rencontre en physique dans le premier cycle universitaire:"
   "\n",
   " Pour ce tp on va etudier les différentes methodes d'intégration numérique :  \n ",
     "\n",
    ">I) Méthode des rectangles . \n",
     "\n",
    ">II) Méthode du point milieu . \n",
     "\n",
    ">III) Méthode des trapèzes. \n",
    "\n",
     ">VI) Méthode de Simpson . \n"
   ]
  }
 ],
 "metadata": {
  "kernelspec": {
   "display_name": "Python 3",
   "language": "python",
   "name": "python3"
  },
  "language_info": {
   "codemirror_mode": {
    "name": "ipython",
    "version": 3
   },
   "file_extension": ".py",
   "mimetype": "text/x-python",
   "name": "python",
   "nbconvert_exporter": "python",
   "pygments_lexer": "ipython3",
   "version": "3.8.3"
  }
 },
 "nbformat": 4,
 "nbformat_minor": 4
}
