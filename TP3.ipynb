{
 "cells": [
  {
   "cell_type": "markdown",
   "metadata": {},
   "source": [
    "<img src='Picture/cap3.PNG'/>"
   ]
  },
  {
   "cell_type": "markdown",
   "metadata": {},
   "source": [
    "# Intégration numérique  : "
   ]
  },
  {
   "cell_type": "markdown",
   "metadata": {},
   "source": [
    " L'intégration numérique est un chapitre important de l'analyse numérique et un outil indispensable en physique numérique. On intègre numériquement dans deux cas principaux :.\n",
    "\n",
    "on ne peut pas intégrer analytiquement \n",
    "\n",
    "l'intégrande est fourni non pas sous la forme d'une fonction mais de tableaux de mesures, cas d'ailleurs le plus fréquent dans la vraie vie \n",
    "\n",
    "Les méthodes numériques d'intégration d'une fonction sont nombreuses et les techniques très diverses. Des très simples, comme la méthode des rectangles aux très complexes comme certaines variétés de la méthode de Monte-Carlo. Nous n'aborderons ici que des méthodes (ou schémas) simples et courants. Mon but est de vous donner un outil pour intégrer des fonctions pas très tourmentées, celles que l'on rencontre en physique dans le premier cycle universitaire:"
   "\n",
   " Pour ce tp on va etudier les différentes methodes d'intégration numérique :  \n ",
     "\n",
    ">I) Méthode des rectangles . \n",
     "\n",
    ">II) Méthode du point milieu . \n",
     "\n",
    ">III) Méthode des trapèzes. \n",
    "\n",
     ">VI) Méthode de Simpson . \n"
   ]
  },
   ]
  },
{
   "cell_type": "markdown",
   "metadata": {},
   "source": [
    "### I) Méthode des rectangles:"
   ]
  },
{
   "cell_type": "markdown",
   "metadata": {},
   "source": [
    "#### 1) définition:"
   ]
  },
  {
   "cell_type": "markdown",
   "metadata": {},
   "source": [
    "<html>\n",
    "    <body>\n",
    "        <ul>\n",
    "            <li style=\"color:darkblue;\">C’est la méthode la plus simple qui consiste \n",
    "            à interpoler la fonction f à intégrer par une fonction \n",
    "            constante (polynôme de degré 0).</li>\n",
    "            <li style=\"color:darkblue;\">C’est la méthode d’ordre 0.</li>\n",
    "            <li style=\"color:darkblue;\">La convergence semble lente.</li>\n",
    "            <li style=\"color:darkblue;\"> L’erreur commise est négative dans\n",
    "les intervalles où f est croissante et elle est positive quand f est décroissante.\n",
    "En particulier, si la fonction f est croissante sur [a, b] ou bien décroissante sur [a, b] il n’y a pas de compensations d’erreurs entre les intervalles.</li>   \n",
    "        </ul>\n",
    "    </body>\n",
    "</html>\n",
    "             \n"
   ]
  },
{
   "cell_type": "markdown",
   "metadata": {},
   "source": [
    "#### 2) Code Python:"
   ]
  },
{
   "cell_type": "code",
   "execution_count": 2,
   "metadata": {},
   "outputs": [],
   "source": [
    "class RectangleG ( object ) :\n",
    "# Innitialisation de la classe (méthode de rectangles) en donnant comme paramètres la fonction f, les bornes del'intervalle a et b ainsi que le nombre de points\n",
    "    def __init__ (self , a , b , n , f ) :    \n",
    "        self.a = a\n",
    "        self.b = b\n",
    "        self.x = np.linspace( a , b , n+1 )   # Pour avoir n subdivisions, il faut n+1 points.\n",
    "        self.f = f\n",
    "        self.n = n\n",
    "# La fonction integrate est utilisé pour calculer l'intégrale.\n",
    "    def integrate ( self , f ) :\n",
    "        x= self.x\n",
    "        y= f( x )\n",
    "        h = float( x[1] - x[0] )\n",
    "        s = sum( y[ 0 : -1 ] )\n",
    "        return h * s\n",
    "    def Graph ( self , f , resolution =1001 ) :\n",
    "        xl = self.x\n",
    "        yl = f(xl)\n",
    "        xlist_fine =np.linspace( self.a , self.b , resolution )\n",
    "        for i in range ( self.n ) :\n",
    "            x_rect = [xl[ i ] , xl[ i ] , xl[ i + 1 ] , xl[i+1] , xl[ i ] ] # abscisses des sommets\n",
    "            y_rect = [0 , yl[ i ] , yl[ i ] , 0 , 0 ] # ordonnees des sommets\n",
    "            plt.plot ( x_rect , y_rect , 'r' )\n",
    "        yflist_fine = f ( xlist_fine )\n",
    "        plt.plot ( xlist_fine , yflist_fine )\n",
    "        plt.plot(xl, yl,\"bo\")\n",
    "        plt.xlabel ( 'x' )\n",
    "        plt.ylabel ( ' f ( x ) ' )\n",
    "        plt.title ( ' Methode des rectangles gauches' )\n",
    "        plt.text( 0.5*( self.a+ self.b ) , f(self.b ) , 'I_{} ={:0.8f}'.format(self.n,self.integrate( f ) ) , fontsize =15 )\n",
    "\n",
    "    "
   ]
  },
  {
   "cell_type": "code",
   "execution_count": 3,
   "metadata": {},
   "outputs": [],
   "source": [
    "class RectangleM(object):\n",
    "    def __init__ (self , a , b , n , f ) :\n",
    "        self.a = a\n",
    "        self.b = b\n",
    "        self.x = np.linspace( a , b , n+1 )\n",
    "        self.f = f\n",
    "        self.n = n\n",
    "    def integrate(self,f):\n",
    "        x= self.x\n",
    "        h = float(x[1] - x[0] )\n",
    "        s = 0\n",
    "        for i in range(self.n):\n",
    "            s=s+f((x[i]+x[i+1])*0.5)\n",
    "        return h*s \n",
    "    def Graph (self,f,resolution =1001):\n",
    "        xl = self.x\n",
    "        yl = f(xl);\n",
    "        xlist_fine =np.linspace( self.a, self.b, resolution)\n",
    "        for i in range(self.n):\n",
    "            m=(xl[i]+xl[i+1])/2\n",
    "            x_rect = [xl[i] , xl[i] , xl[i+1] , xl[i+1] , xl[i]] # abscisses des sommets\n",
    "            y_rect = [0 , f(m) , f(m) , 0 , 0 ] # ordonnees des sommets\n",
    "            plt.plot ( x_rect , y_rect , \"r\" )\n",
    "            plt.plot(m,f(m),\"g*\")\n",
    "        yflist_fine = f(xlist_fine)\n",
    "        plt.plot (xlist_fine , yflist_fine ,'b')\n",
    "        plt.plot(xl, yl,\"bo\")\n",
    "        plt.xlabel ('x')\n",
    "        plt.ylabel ('f(x)')\n",
    "        plt.title ( 'Methode de point Milieu' )\n",
    "        plt.text( 0.5*( self.a+ self.b ) , f(self.b ) , 'I_{} ={:0.8f}'.format(self.n,self.integrate( f ) ) , fontsize =15 )\n"
   ]
  }
 ],
 "metadata": {
  "kernelspec": {
   "display_name": "Python 3",
   "language": "python",
   "name": "python3"
  },
  "language_info": {
   "codemirror_mode": {
    "name": "ipython",
    "version": 3
   },
   "file_extension": ".py",
   "mimetype": "text/x-python",
   "name": "python",
   "nbconvert_exporter": "python",
   "pygments_lexer": "ipython3",
   "version": "3.8.3"
  }
 },
 "nbformat": 4,
 "nbformat_minor": 4
}
